{
 "cells": [
  {
   "cell_type": "markdown",
   "metadata": {},
   "source": [
    "### This problem focuses on the collinearity problem.\n",
    "\n",
    "(a) Perform the following commands in Python:\n",
    "```\n",
    "rng = np.random.default_rng (10)<>\n",
    "x1 = rng.uniform (0, 1, size =100)\n",
    "x2 = 0.5 * x1 + rng.normal(size =100) / 10\n",
    "y = 2 + 2 * x1 + 0.3 * x2 + rng.normal(size =100)\n",
    "```\n",
    "(b)\n",
    "The last line corresponds to creating a linear model in which y is\n",
    "a function of x1 and x2. Write out the form of the linear model.\n",
    "What are the regression coefficients?\n",
    "What is the correlation between x1 and x2? Create a scatterplot\n",
    "displaying the relationship between the variables.\n",
    "\n",
    "(c) Using this data, fit a least squares regression to predict y using\n",
    "x1 and x2. Describe the results obtained. What are β̂0 , β̂1 , and\n",
    "β̂2 ? How do these relate to the true β0 , β1 , and β2 ? Can you\n",
    "reject the null hypothesis H0 : β1 = 0? How about the null\n",
    "hypothesis H0 : β2 = 0?\n",
    "\n",
    "(d) Now fit a least squares regression to predict y using only x1.\n",
    "Comment on your results. Can you reject the null hypothesis\n",
    "H0 : β1 = 0?\n",
    "\n",
    "(e) Now fit a least squares regression to predict y using only x2.\n",
    "Comment on your results. Can you reject the null hypothesis\n",
    "H0 : β1 = 0?\n",
    "\n",
    "(f) Do the results obtained in (c)–(e) contradict each other? Explain\n",
    "your answer.\n",
    "\n",
    "(g) Suppose we obtain one additional observation, which was unfor-\n",
    "tunately mismeasured. We use the function np.concatenate() to np.conca-\n",
    "add this additional observation to each of x1, x2 and y.\n",
    "tenate()\n",
    "x1 = np.concatenate ([x1 , [0.1]])\n",
    "x2 = np.concatenate ([x2 , [0.8]])\n",
    "y = np.concatenate ([y, [6]])\n",
    "Re-fit the linear models from (c) to (e) using this new data. What\n",
    "effect does this new observation have on the each of the models?\n",
    "In each model, is this observation an outlier? A high-leverage\n",
    "point? Both? Explain your answers."
   ]
  },
  {
   "cell_type": "code",
   "execution_count": 1,
   "metadata": {},
   "outputs": [],
   "source": [
    "import numpy as np\n",
    "import matplotlib.pyplot as plt\n",
    "import statsmodels.api as sm\n",
    "\n",
    "rng = np.random.default_rng(10)\n",
    "x1 = rng.uniform(0, 1, size=100)\n",
    "x2 = 0.5 * x1 + rng.normal(size=100) / 10\n",
    "y = 2 + 2 * x1 + 0.3 * x2 + rng.normal(size=100)"
   ]
  },
  {
   "cell_type": "markdown",
   "metadata": {},
   "source": [
    "The linear model is:\n",
    "\n",
    "$ y = \\beta_0 + \\beta_1 x_1 + \\beta_2 x_2 + \\varepsilon $ \n",
    "\n",
    "$ y = 2 + 2 x_1 + 0.3 x_2 + \\varepsilon $"
   ]
  },
  {
   "cell_type": "markdown",
   "metadata": {},
   "source": []
  },
  {
   "cell_type": "code",
   "execution_count": 2,
   "metadata": {},
   "outputs": [
    {
     "name": "stdout",
     "output_type": "stream",
     "text": [
      "Correlation between x1 and x2: 0.772324497691354\n"
     ]
    },
    {
     "data": {
      "image/png": "[encoded data removed]",
      "text/plain": [
       "<Figure size 640x480 with 1 Axes>"
      ]
     },
     "metadata": {},
     "output_type": "display_data"
    }
   ],
   "source": [
    "correlation = np.corrcoef(x1, x2)[0, 1]\n",
    "print(f\"Correlation between x1 and x2: {correlation}\")\n",
    "plt.scatter(x1, x2)\n",
    "plt.xlabel('x1')\n",
    "plt.ylabel('x2')\n",
    "plt.title('Scatter Plot of x1 vs x2')\n",
    "plt.show()"
   ]
  },
  {
   "cell_type": "code",
   "execution_count": 3,
   "metadata": {},
   "outputs": [
    {
     "name": "stdout",
     "output_type": "stream",
     "text": [
      "                            OLS Regression Results                            \n",
      "==============================================================================\n",
      "Dep. Variable:                      y   R-squared:                       0.291\n",
      "Model:                            OLS   Adj. R-squared:                  0.276\n",
      "Method:                 Least Squares   F-statistic:                     19.89\n",
      "Date:                Wed, 27 Nov 2024   Prob (F-statistic):           5.76e-08\n",
      "Time:                        21:03:41   Log-Likelihood:                -130.62\n",
      "No. Observations:                 100   AIC:                             267.2\n",
      "Df Residuals:                      97   BIC:                             275.1\n",
      "Df Model:                           2                                         \n",
      "Covariance Type:            nonrobust                                         \n",
      "==============================================================================\n",
      "                 coef    std err          t      P>|t|      [0.025      0.975]\n",
      "------------------------------------------------------------------------------\n",
      "const          1.9579      0.190     10.319      0.000       1.581       2.334\n",
      "x1             1.6154      0.527      3.065      0.003       0.569       2.661\n",
      "x2             0.9428      0.831      1.134      0.259      -0.707       2.592\n",
      "==============================================================================\n",
      "Omnibus:                        0.051   Durbin-Watson:                   1.964\n",
      "Prob(Omnibus):                  0.975   Jarque-Bera (JB):                0.041\n",
      "Skew:                          -0.036   Prob(JB):                        0.979\n",
      "Kurtosis:                       2.931   Cond. No.                         11.9\n",
      "==============================================================================\n",
      "\n",
      "Notes:\n",
      "[1] Standard Errors assume that the covariance matrix of the errors is correctly specified.\n"
     ]
    }
   ],
   "source": [
    "# part c\n",
    "X = sm.add_constant(np.column_stack((x1, x2)))\n",
    "model = sm.OLS(y, X).fit()\n",
    "print(model.summary())"
   ]
  },
  {
   "cell_type": "code",
   "execution_count": 4,
   "metadata": {},
   "outputs": [
    {
     "name": "stdout",
     "output_type": "stream",
     "text": [
      "                            OLS Regression Results                            \n",
      "==============================================================================\n",
      "Dep. Variable:                      y   R-squared:                       0.281\n",
      "Model:                            OLS   Adj. R-squared:                  0.274\n",
      "Method:                 Least Squares   F-statistic:                     38.39\n",
      "Date:                Wed, 27 Nov 2024   Prob (F-statistic):           1.37e-08\n",
      "Time:                        21:03:41   Log-Likelihood:                -131.28\n",
      "No. Observations:                 100   AIC:                             266.6\n",
      "Df Residuals:                      98   BIC:                             271.8\n",
      "Df Model:                           1                                         \n",
      "Covariance Type:            nonrobust                                         \n",
      "==============================================================================\n",
      "                 coef    std err          t      P>|t|      [0.025      0.975]\n",
      "------------------------------------------------------------------------------\n",
      "const          1.9371      0.189     10.242      0.000       1.562       2.312\n",
      "x1             2.0771      0.335      6.196      0.000       1.412       2.742\n",
      "==============================================================================\n",
      "Omnibus:                        0.204   Durbin-Watson:                   1.931\n",
      "Prob(Omnibus):                  0.903   Jarque-Bera (JB):                0.042\n",
      "Skew:                          -0.046   Prob(JB):                        0.979\n",
      "Kurtosis:                       3.038   Cond. No.                         4.65\n",
      "==============================================================================\n",
      "\n",
      "Notes:\n",
      "[1] Standard Errors assume that the covariance matrix of the errors is correctly specified.\n"
     ]
    }
   ],
   "source": [
    "# PART D\n",
    "X1 = sm.add_constant(x1)\n",
    "model_x1 = sm.OLS(y, X1).fit()\n",
    "print(model_x1.summary())"
   ]
  },
  {
   "cell_type": "code",
   "execution_count": 5,
   "metadata": {},
   "outputs": [
    {
     "name": "stdout",
     "output_type": "stream",
     "text": [
      "                            OLS Regression Results                            \n",
      "==============================================================================\n",
      "Dep. Variable:                      y   R-squared:                       0.222\n",
      "Model:                            OLS   Adj. R-squared:                  0.214\n",
      "Method:                 Least Squares   F-statistic:                     27.99\n",
      "Date:                Wed, 27 Nov 2024   Prob (F-statistic):           7.43e-07\n",
      "Time:                        21:03:41   Log-Likelihood:                -135.24\n",
      "No. Observations:                 100   AIC:                             274.5\n",
      "Df Residuals:                      98   BIC:                             279.7\n",
      "Df Model:                           1                                         \n",
      "Covariance Type:            nonrobust                                         \n",
      "==============================================================================\n",
      "                 coef    std err          t      P>|t|      [0.025      0.975]\n",
      "------------------------------------------------------------------------------\n",
      "const          2.3239      0.154     15.124      0.000       2.019       2.629\n",
      "x1             2.9103      0.550      5.291      0.000       1.819       4.002\n",
      "==============================================================================\n",
      "Omnibus:                        0.191   Durbin-Watson:                   1.943\n",
      "Prob(Omnibus):                  0.909   Jarque-Bera (JB):                0.373\n",
      "Skew:                          -0.034   Prob(JB):                        0.830\n",
      "Kurtosis:                       2.709   Cond. No.                         6.11\n",
      "==============================================================================\n",
      "\n",
      "Notes:\n",
      "[1] Standard Errors assume that the covariance matrix of the errors is correctly specified.\n"
     ]
    }
   ],
   "source": [
    "X2 = sm.add_constant(x2)\n",
    "model_x2 = sm.OLS(y, X2).fit()\n",
    "print(model_x2.summary())"
   ]
  },
  {
   "cell_type": "code",
   "execution_count": null,
   "metadata": {},
   "outputs": [],
   "source": [
    "x1 = np.concatenate([x1, [0.1]])\n",
    "x2 = np.concatenate([x2, [0.8]])\n",
    "y = np.concatenate([y, [6]])\n"
   ]
  },
  {
   "cell_type": "code",
   "execution_count": 7,
   "metadata": {},
   "outputs": [
    {
     "name": "stdout",
     "output_type": "stream",
     "text": [
      "[4.35697711 3.67778851 3.48207881 2.36909332 1.41329539 4.20750629\n",
      " 2.57167458 3.91937236 3.37262726 3.12696558 3.56116566 3.28659541\n",
      " 2.99093735 3.17884697 3.29016738 3.23154962 2.02457872 3.86499698\n",
      " 2.60842138 4.86156336 2.45220933 3.18771988 3.4247815  4.31264243\n",
      " 4.04213658 2.74898481 2.97663313 3.60829046 3.33659211 2.39586587\n",
      " 2.16177801 2.59150777 5.43193727 3.08958983 2.87226452 1.99681481\n",
      " 0.12091645 3.644074   3.38606229 4.50012386 2.35809596 3.87742528\n",
      " 2.80321893 0.68900189 3.32236151 2.25527731 3.64036741 1.04633436\n",
      " 2.35023716 1.44445948 0.89747455 3.65158127 5.30946703 3.6709363\n",
      " 4.26794145 5.06154084 3.42008377 3.11252106 1.23449794 3.22092493\n",
      " 2.21268616 3.30792402 2.8090962  4.20233228 2.25403897 2.98808164\n",
      " 3.38177348 3.50598973 2.97210161 3.98904757 1.64301736 2.29445824\n",
      " 1.94060257 2.69267502 3.04120359 4.51221993 2.0686078  2.95405771\n",
      " 1.76561729 1.17036527 1.69488554 1.06797893 3.48885221 1.3047942\n",
      " 2.82725422 2.94154934 3.86393421 2.39835694 0.71371864 1.67915277\n",
      " 3.43884949 4.72956304 1.93993682 2.32912505 3.38988394 3.9407218\n",
      " 3.46099756 3.35509502 2.33692233 4.56653806 6.        ]\n"
     ]
    }
   ],
   "source": [
    "print(y)"
   ]
  },
  {
   "cell_type": "code",
   "execution_count": 8,
   "metadata": {},
   "outputs": [
    {
     "name": "stdout",
     "output_type": "stream",
     "text": [
      "                            OLS Regression Results                            \n",
      "==============================================================================\n",
      "Dep. Variable:                      y   R-squared:                       0.292\n",
      "Model:                            OLS   Adj. R-squared:                  0.277\n",
      "Method:                 Least Squares   F-statistic:                     20.17\n",
      "Date:                Wed, 27 Nov 2024   Prob (F-statistic):           4.60e-08\n",
      "Time:                        21:03:41   Log-Likelihood:                -135.30\n",
      "No. Observations:                 101   AIC:                             276.6\n",
      "Df Residuals:                      98   BIC:                             284.5\n",
      "Df Model:                           2                                         \n",
      "Covariance Type:            nonrobust                                         \n",
      "==============================================================================\n",
      "                 coef    std err          t      P>|t|      [0.025      0.975]\n",
      "------------------------------------------------------------------------------\n",
      "const          2.0618      0.192     10.720      0.000       1.680       2.443\n",
      "x1             0.8575      0.466      1.838      0.069      -0.068       1.783\n",
      "x2             2.2663      0.705      3.216      0.002       0.868       3.665\n",
      "==============================================================================\n",
      "Omnibus:                        0.139   Durbin-Watson:                   1.894\n",
      "Prob(Omnibus):                  0.933   Jarque-Bera (JB):                0.320\n",
      "Skew:                           0.013   Prob(JB):                        0.852\n",
      "Kurtosis:                       2.725   Cond. No.                         9.68\n",
      "==============================================================================\n",
      "\n",
      "Notes:\n",
      "[1] Standard Errors assume that the covariance matrix of the errors is correctly specified.\n"
     ]
    }
   ],
   "source": [
    "# Re-fit the models with the new data\n",
    "X = sm.add_constant(np.column_stack((x1, x2)))\n",
    "model_new = sm.OLS(y, X).fit()\n",
    "print(model_new.summary())"
   ]
  },
  {
   "cell_type": "code",
   "execution_count": 9,
   "metadata": {},
   "outputs": [
    {
     "name": "stdout",
     "output_type": "stream",
     "text": [
      "                            OLS Regression Results                            \n",
      "==============================================================================\n",
      "Dep. Variable:                      y   R-squared:                       0.217\n",
      "Model:                            OLS   Adj. R-squared:                  0.209\n",
      "Method:                 Least Squares   F-statistic:                     27.42\n",
      "Date:                Wed, 27 Nov 2024   Prob (F-statistic):           9.23e-07\n",
      "Time:                        21:03:41   Log-Likelihood:                -140.37\n",
      "No. Observations:                 101   AIC:                             284.7\n",
      "Df Residuals:                      99   BIC:                             290.0\n",
      "Df Model:                           1                                         \n",
      "Covariance Type:            nonrobust                                         \n",
      "==============================================================================\n",
      "                 coef    std err          t      P>|t|      [0.025      0.975]\n",
      "------------------------------------------------------------------------------\n",
      "const          2.0739      0.201     10.310      0.000       1.675       2.473\n",
      "x1             1.8760      0.358      5.236      0.000       1.165       2.587\n",
      "==============================================================================\n",
      "Omnibus:                        8.232   Durbin-Watson:                   1.636\n",
      "Prob(Omnibus):                  0.016   Jarque-Bera (JB):               10.781\n",
      "Skew:                           0.396   Prob(JB):                      0.00456\n",
      "Kurtosis:                       4.391   Cond. No.                         4.61\n",
      "==============================================================================\n",
      "\n",
      "Notes:\n",
      "[1] Standard Errors assume that the covariance matrix of the errors is correctly specified.\n"
     ]
    }
   ],
   "source": [
    "X1 = sm.add_constant(x1)\n",
    "model_x1_new = sm.OLS(y, X1).fit()\n",
    "print(model_x1_new.summary())"
   ]
  },
  {
   "cell_type": "code",
   "execution_count": 10,
   "metadata": {},
   "outputs": [
    {
     "name": "stdout",
     "output_type": "stream",
     "text": [
      "                            OLS Regression Results                            \n",
      "==============================================================================\n",
      "Dep. Variable:                      y   R-squared:                       0.267\n",
      "Model:                            OLS   Adj. R-squared:                  0.260\n",
      "Method:                 Least Squares   F-statistic:                     36.10\n",
      "Date:                Wed, 27 Nov 2024   Prob (F-statistic):           3.13e-08\n",
      "Time:                        21:03:41   Log-Likelihood:                -137.01\n",
      "No. Observations:                 101   AIC:                             278.0\n",
      "Df Residuals:                      99   BIC:                             283.3\n",
      "Df Model:                           1                                         \n",
      "Covariance Type:            nonrobust                                         \n",
      "==============================================================================\n",
      "                 coef    std err          t      P>|t|      [0.025      0.975]\n",
      "------------------------------------------------------------------------------\n",
      "const          2.2840      0.151     15.088      0.000       1.984       2.584\n",
      "x1             3.1458      0.524      6.008      0.000       2.107       4.185\n",
      "==============================================================================\n",
      "Omnibus:                        0.495   Durbin-Watson:                   1.939\n",
      "Prob(Omnibus):                  0.781   Jarque-Bera (JB):                0.631\n",
      "Skew:                          -0.041   Prob(JB):                        0.729\n",
      "Kurtosis:                       2.621   Cond. No.                         5.84\n",
      "==============================================================================\n",
      "\n",
      "Notes:\n",
      "[1] Standard Errors assume that the covariance matrix of the errors is correctly specified.\n"
     ]
    }
   ],
   "source": [
    "X2 = sm.add_constant(x2)\n",
    "model_x2_new = sm.OLS(y, X2).fit()\n",
    "print(model_x2_new.summary())"
   ]
  },
  {
   "cell_type": "code",
   "execution_count": null,
   "metadata": {},
   "outputs": [],
   "source": []
  }
 ],
 "metadata": {
  "kernelspec": {
   "display_name": "venv",
   "language": "python",
   "name": "python3"
  },
  "language_info": {
   "codemirror_mode": {
    "name": "ipython",
    "version": 3
   },
   "file_extension": ".py",
   "mimetype": "text/x-python",
   "name": "python",
   "nbconvert_exporter": "python",
   "pygments_lexer": "ipython3",
   "version": "3.12.3"
  }
 },
 "nbformat": 4,
 "nbformat_minor": 2
}
