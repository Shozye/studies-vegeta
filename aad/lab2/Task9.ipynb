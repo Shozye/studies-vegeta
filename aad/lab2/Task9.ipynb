{
 "cells": [
  {
   "cell_type": "markdown",
   "metadata": {},
   "source": [
    "# Exercise\n",
    " In this exercise you will create some simulated data and will fit simple linear regression models to it. Make sure to use the default random number generator with seed set to 1 prior to starting part (a) to ensure consistent results.\n",
    "\n",
    "1. Using the `normal()` method of your random number generator,\n",
    "create a vector, $x$, containing 100 observations drawn from a\n",
    "$N (0, 1)$ distribution. This represents a feature, $X$.\n",
    "2. Using the `normal()` method, create a vector, eps, containing 100\n",
    "observations drawn from a $N (0, 0.25)$ distribution - a normal\n",
    "distribution with mean zero and variance 0.25.\n",
    "3. Using $x$ and $eps$, generate a vector y according to the model\n",
    "$$\n",
    "Y = −1 + 0.5X + \\varepsilon\n",
    "$$\n",
    "What is the length of the vector $y$? What are the values of $β_0$\n",
    "and $β_1$ in this linear model?\n",
    "\n",
    "4. Create a scatterplot displaying the relationship between $x$ and\n",
    "$y$. Comment on what you observe.\n",
    "\n",
    "5. Fit a least squares linear model to predict $y$ using $x$. Comment\n",
    "on the model obtained. How do $\\overline{\\beta_0}$ and $\\overline{\\beta_1}$ compare to $\\beta_0$ and\n",
    "$\\beta_1$ ?\n",
    "\n",
    "6. Display the least squares line on the scatterplot obtained in (4).\n",
    "Draw the population regression line on the plot, in a different\n",
    "color. Use the `legend()` method of the axes to create an appropriate legend.\n",
    "Now fit a polynomial regression model that predicts $y$ using $x$\n",
    "and $x^2$ . Is there evidence that the quadratic term improves the\n",
    "model fit? Explain your answer.\n",
    "\n",
    "7. Repeat (1)–(6) after modifying the data generation process in\n",
    "such a way that there is less noise in the data. The model from point (3)\n",
    "should remain the same. You can do this by decreasing the variance of the normal distribution used to generate the error term in (2). Describe your results.\n",
    "8. Repeat (1)–(6) after modifying the data generation process in\n",
    "such a way that there is more noise in the data. The model\n",
    "(3.39) should remain the same. You can do this by increasing\n",
    "the variance of the normal distribution used to generate the\n",
    "error term \" in (b). Describe your results.\n",
    "9. What are the confidence intervals for β0 and β1 based on the\n",
    "original data set, the noisier data set, and the less noisy data\n",
    "set? Comment on your results."
   ]
  },
  {
   "cell_type": "code",
   "execution_count": 99,
   "metadata": {},
   "outputs": [],
   "source": [
    "import numpy as np\n",
    "import math\n",
    "# Make sure to use the default random number generator with seed set to 1 prior to starting part (a) to ensure consistent results.\n",
    "generator = np.random.default_rng(1)"
   ]
  },
  {
   "cell_type": "code",
   "execution_count": 100,
   "metadata": {},
   "outputs": [
    {
     "name": "stdout",
     "output_type": "stream",
     "text": [
      "[ 0.34558419  0.82161814  0.33043708 -1.30315723  0.90535587]\n"
     ]
    }
   ],
   "source": [
    "# Using the `normal()` method of your random number generator, \n",
    "# create a vector, $x$, containing 100 observations drawn from a\n",
    "# $N (0, 1)$ distribution. This represents a feature, $X$.\n",
    "x = generator.normal(0, 1, 100)\n",
    "print(x[:5])"
   ]
  },
  {
   "cell_type": "code",
   "execution_count": 101,
   "metadata": {},
   "outputs": [
    {
     "name": "stdout",
     "output_type": "stream",
     "text": [
      "[-0.32564051  0.4312224  -0.06279604  0.33457662  0.6094218 ]\n"
     ]
    }
   ],
   "source": [
    "# Using the `normal()` method, create a vector, eps, containing 100\n",
    "# observations drawn from a $N (0, 0.25)$ distribution - a normal\n",
    "# distribution with mean zero and variance 0.25.\n",
    "eps = generator.normal(0, math.sqrt(0.25), 100)\n",
    "print(eps[:5])"
   ]
  },
  {
   "cell_type": "code",
   "execution_count": 102,
   "metadata": {},
   "outputs": [
    {
     "name": "stdout",
     "output_type": "stream",
     "text": [
      "Length is the same as length of x and eps\n",
      "B_1 = 0.5, B_0 = -1\n"
     ]
    },
    {
     "data": {
      "text/plain": [
       "[<matplotlib.lines.Line2D at 0x77477033c440>]"
      ]
     },
     "execution_count": 102,
     "metadata": {},
     "output_type": "execute_result"
    },
    {
     "data": {
      "image/png": "[encoded data removed]",
      "text/plain": [
       "<Figure size 640x480 with 1 Axes>"
      ]
     },
     "metadata": {},
     "output_type": "display_data"
    }
   ],
   "source": [
    "#  Using $x$ and $eps$, generate a vector y according to the model\n",
    "# Y = −1 + 0.5X + \\varepsilon\n",
    "# What is the length of the vector $y$? What are the values of $β_0$\n",
    "# and $β_1$ in this linear model?\n",
    "\n",
    "from matplotlib import pyplot as plt\n",
    "\n",
    "\n",
    "Y = -1 + 0.5 * x + eps\n",
    "\n",
    "print(f\"Length is the same as length of x and eps\")\n",
    "print(f\"B_1 = 0.5, B_0 = -1\")\n",
    "\n",
    "plt.scatter(x, Y)\n",
    "\n",
    "linear_x = [-2,2]\n",
    "linear_y = [-1 + 0.5*x for x in linear_x]\n",
    "plt.plot(linear_x, linear_y, color='red')\n"
   ]
  },
  {
   "cell_type": "code",
   "execution_count": null,
   "metadata": {},
   "outputs": [],
   "source": []
  }
 ],
 "metadata": {
  "kernelspec": {
   "display_name": "venv",
   "language": "python",
   "name": "python3"
  },
  "language_info": {
   "codemirror_mode": {
    "name": "ipython",
    "version": 3
   },
   "file_extension": ".py",
   "mimetype": "text/x-python",
   "name": "python",
   "nbconvert_exporter": "python",
   "pygments_lexer": "ipython3",
   "version": "3.12.3"
  }
 },
 "nbformat": 4,
 "nbformat_minor": 2
}
