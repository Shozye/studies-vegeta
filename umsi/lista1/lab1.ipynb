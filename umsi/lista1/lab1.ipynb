{
 "cells": [
  {
   "cell_type": "markdown",
   "id": "77d98a4e-9418-4397-8b7a-8088621543bc",
   "metadata": {},
   "source": [
    "# Lista 1\n",
    "\n",
    "## Uczenie maszynowe i sztuczna inteligencja\n",
    "\n",
    "* [regresja](https://pl.wikipedia.org/wiki/Regresja_(statystyka))\n",
    "* [podobieństwo konsinusowe](https://en.wikipedia.org/wiki/Cosine_similarity)"
   ]
  },
  {
   "cell_type": "code",
   "execution_count": 1,
   "id": "c4cfbd3f-be9a-44dd-b25a-e9c172c54f12",
   "metadata": {},
   "outputs": [],
   "source": [
    "# Preparation\n",
    "import os\n",
    "import zipfile\n",
    "import numpy as np\n",
    "import pandas as pd\n",
    "import requests\n",
    "from matplotlib import pyplot as plt\n",
    "\n",
    "download_path_url = \"https://files.grouplens.org/datasets/movielens/ml-latest-small.zip\"\n",
    "data_zip_path = download_path_url.split(\"/\")[-1]\n",
    "data_path = data_zip_path.split(\".\")[0]\n",
    "ratings_path = os.path.join(data_path, 'ratings.csv')\n",
    "\n",
    "if not os.path.isdir(data_path) and not os.path.isfile(data_zip_path):\n",
    "    print(\"Downloading zip\")\n",
    "    r = requests.get(download_path_url, allow_redirects=True)\n",
    "    with open(data_zip_path, 'wb') as file:\n",
    "        file.write(r.content)\n",
    "\n",
    "if not os.path.isdir(data_path) and os.path.isfile(data_zip_path):\n",
    "    print(\"Unzipping data\")\n",
    "    with zipfile.ZipFile(data_zip_path, 'r') as zip_ref:\n",
    "        zip_ref.extractall()"
   ]
  },
  {
   "cell_type": "code",
   "execution_count": 2,
   "id": "827456a1-3e74-4f70-a4d4-7778c73c5953",
   "metadata": {},
   "outputs": [],
   "source": [
    "class RatingsModel:\n",
    "    def __init__(self, row):\n",
    "        self.userId = int(row[1].get('userId'))\n",
    "        self.movieId = int(row[1].get('movieId'))\n",
    "        self.rating = int(row[1].get('rating'))\n",
    "\n",
    "def headRows(nparray, n=8):\n",
    "    for i in range(n):\n",
    "        print(nparray[i])"
   ]
  },
  {
   "cell_type": "code",
   "execution_count": 3,
   "id": "62895923-fd04-48f5-a084-b83ffbbb0ea3",
   "metadata": {},
   "outputs": [
    {
     "data": {
      "text/html": [
       "<div>\n",
       "<style scoped>\n",
       "    .dataframe tbody tr th:only-of-type {\n",
       "        vertical-align: middle;\n",
       "    }\n",
       "\n",
       "    .dataframe tbody tr th {\n",
       "        vertical-align: top;\n",
       "    }\n",
       "\n",
       "    .dataframe thead th {\n",
       "        text-align: right;\n",
       "    }\n",
       "</style>\n",
       "<table border=\"1\" class=\"dataframe\">\n",
       "  <thead>\n",
       "    <tr style=\"text-align: right;\">\n",
       "      <th></th>\n",
       "      <th>userId</th>\n",
       "      <th>movieId</th>\n",
       "      <th>rating</th>\n",
       "      <th>timestamp</th>\n",
       "    </tr>\n",
       "  </thead>\n",
       "  <tbody>\n",
       "    <tr>\n",
       "      <th>67037</th>\n",
       "      <td>432</td>\n",
       "      <td>77866</td>\n",
       "      <td>4.5</td>\n",
       "      <td>1335139641</td>\n",
       "    </tr>\n",
       "    <tr>\n",
       "      <th>42175</th>\n",
       "      <td>288</td>\n",
       "      <td>474</td>\n",
       "      <td>3.0</td>\n",
       "      <td>978465565</td>\n",
       "    </tr>\n",
       "    <tr>\n",
       "      <th>93850</th>\n",
       "      <td>599</td>\n",
       "      <td>4351</td>\n",
       "      <td>3.0</td>\n",
       "      <td>1498524542</td>\n",
       "    </tr>\n",
       "    <tr>\n",
       "      <th>6187</th>\n",
       "      <td>42</td>\n",
       "      <td>2987</td>\n",
       "      <td>4.0</td>\n",
       "      <td>996262677</td>\n",
       "    </tr>\n",
       "    <tr>\n",
       "      <th>12229</th>\n",
       "      <td>75</td>\n",
       "      <td>1610</td>\n",
       "      <td>4.0</td>\n",
       "      <td>1158989841</td>\n",
       "    </tr>\n",
       "  </tbody>\n",
       "</table>\n",
       "</div>"
      ],
      "text/plain": [
       "       userId  movieId  rating   timestamp\n",
       "67037     432    77866     4.5  1335139641\n",
       "42175     288      474     3.0   978465565\n",
       "93850     599     4351     3.0  1498524542\n",
       "6187       42     2987     4.0   996262677\n",
       "12229      75     1610     4.0  1158989841"
      ]
     },
     "execution_count": 3,
     "metadata": {},
     "output_type": "execute_result"
    }
   ],
   "source": [
    "data = pd.read_csv(ratings_path)\n",
    "data.sample(5, random_state=42)"
   ]
  },
  {
   "cell_type": "markdown",
   "id": "b7ff1e5a-8599-412a-9494-45699a65a2fb",
   "metadata": {},
   "source": [
    "## Zadanie 1 (10pt)\n",
    "\n",
    "Napisz wykorzystując regresję liniową program, który na podstawie oceny filmów przez użytkowników będzie\n",
    "starał się przewidzieć ocenę innych użytkowników. Jako dane wykorzystamy zbiór\n",
    "[MovieLens Latest Datasets](https://grouplens.org/datasets/movielens/latest/).\n",
    "Dokładnie wybierzemy mniejszy zbiór, pobierz plik\n",
    "[ml-latest-small.zip](http://files.grouplens.org/datasets/movielens/ml-latest-small.zip\").\n",
    "Zadanie polega na wybraniu z pliku <em>ratings.csv</em> tych użytkowników ($\\mbox{userId}$), którzy ocenili film\n",
    "'Toy Story (1995)', który w tym pliku ma identyfikator '1' (patrz <em>movies.csv</em>).\n",
    "W tym pliku osób takich jest $215$. Wtedy zgodnie z zapisem z wykładu\n",
    "$x_{ij}$ będzie oceną $i$-tego użytkownika dla $i=0,\\ldots, 214$, bo\n",
    "taki jest nasz zbiór osób, które oceniły 'Toy Story' oraz $j$ będzie oceną $j$-tego filmu\n",
    "dla $j=0,\\ldots,m$. Jako $j$ można wybrać $\\mbox{movieId}$ filmu, czyli\n",
    "np. film o $\\mbox{movieId}=42$ oceniony przez użytkownika $5$ (nie jest to $\\mbox{userId}$, tylko\n",
    "piąta osoba ze zbioru $215$ osób), który ocenił film jako np. $3.5$ wpisujemy $x[5, 42] = 3.5$.\n",
    "Natomiast $y_i$ to ocena 'Toy Story' przez $i$-tego użytkownika. Zatem tworzymy macierz $X = [x_{ij}]$ oraz wektor $y_i$\n",
    "gdzie $i=0,\\ldots,215$ oraz $j=0,\\ldots,m$. Dla tak przygotowanych danych wykonujemy:\n",
    "\n",
    "* regresje liniową na całym zbiorze użytkowników dla $m=10,1000,10000$,\n",
    "  czyli np. dla $m=10$ ignorujemy filmy o $\\mbox{movieId} \\gt 10$ i robimy regresje\n",
    "  dla tak okrojonego zbioru ocen. Jakie dostajemy błędy. Pokaż na wykresie.\n",
    "* podziel zbiór osób na tzw. zbiór treningowy oraz zbiór testowy np.\n",
    "  weźmy $i=0,\\ldots,200$ to będzie zbiór treningowy i na takim zbiorze osób wykonajmy regresje\n",
    "  natomiast później sprawdzamy już dla całości ($215$). Zatem ostatnie\n",
    "  $15$ ocen będziemy chcieli przewidzieć (zbiór testowy). Zrób przewidywanie dla\n",
    "  $m=10,100,200,500,1000,10000$. Wyświetl wynik predykcji i wynik prawidłowy\n",
    "  dla tych $15$ osób.\n",
    "\n",
    "Przykład danych do regresji jakie otrzymujemy dla $m=10$ i $n=215$.\n",
    "\n",
    "```\n",
    "X = [[0.  4.  0.  0.  4.  0.  0.  0.  0.  0. ]\n",
    "     [0.  0.  0.  0.  0.  0.  0.  0.  0.  0. ]\n",
    "     [0.  0.  0.  0.  0.  0.  0.  0.  0.  0. ]\n",
    "     [0.  0.  0.  0.  0.  0.  0.  0.  0.  0. ]\n",
    "     [0.  0.  0.  0.  0.  0.  0.  0.  0.  0. ]\n",
    "     [3.  0.  0.  0.  4.  0.  0.  0.  0.  0. ]\n",
    "     [3.  3.  0.  0.  0.  2.  0.  0.  2.  0. ]\n",
    "     [3.5 0.  0.  0.  0.  0.  0.  0.  5.  0. ]\n",
    "     ...\n",
    "y = [[4. ]\n",
    "     [4. ]\n",
    "     [4.5]\n",
    "     [2.5]\n",
    "     [4.5]\n",
    "     [3.5]\n",
    "     [4. ]\n",
    "     [3.5]\n",
    "     ...\n",
    "```\n"
   ]
  },
  {
   "cell_type": "code",
   "execution_count": 4,
   "id": "1c1e2b1d-5e9d-4373-a11e-9e7935adbda9",
   "metadata": {},
   "outputs": [
    {
     "name": "stdout",
     "output_type": "stream",
     "text": [
      "[1, 5, 7, 15, 17, 18, 19, 21, 27, 31]\n",
      "215\n"
     ]
    }
   ],
   "source": [
    "# wybranie uzytkownikow, którzy ocenili film Toy Story\n",
    "users = []\n",
    "for row in data.iterrows():\n",
    "    model = RatingsModel(row)\n",
    "    if model.movieId == 1:\n",
    "        users.append(model.userId)\n",
    "users = list(sorted(list(set(users))))\n",
    "print(users[:10])\n",
    "print(len(users))"
   ]
  },
  {
   "cell_type": "code",
   "execution_count": 18,
   "id": "32cb829f-f30e-42a0-bf98-bf1d0c400514",
   "metadata": {},
   "outputs": [],
   "source": [
    "def create_matrix_Xij_and_y(m=10):\n",
    "    Xij = np.zeros((len(users),m-1))\n",
    "    y = np.zeros(len(users))\n",
    "    for row in data.iterrows():\n",
    "        model = RatingsModel(row)\n",
    "            \n",
    "        if model.movieId > m:\n",
    "            continue\n",
    "        if model.userId in users:\n",
    "            userIndex = users.index(model.userId)\n",
    "            if model.movieId == 1:\n",
    "                y[userIndex] = model.rating\n",
    "            else:\n",
    "                Xij[userIndex, model.movieId-2] = model.rating\n",
    "    return Xij, y"
   ]
  },
  {
   "cell_type": "code",
   "execution_count": 35,
   "id": "cea45e68-3433-4bb1-97ba-fcf0cb850ca9",
   "metadata": {},
   "outputs": [
    {
     "data": {
      "image/png": "[encoded data removed]",
      "text/plain": [
       "<Figure size 640x480 with 1 Axes>"
      ]
     },
     "metadata": {},
     "output_type": "display_data"
    }
   ],
   "source": [
    "def task1():\n",
    "    plot_xs = [10, 25, 50, 100, 250]\n",
    "    plot_ys = []\n",
    "    for m in plot_xs:\n",
    "        Xij, y = create_matrix_Xij_and_y(m=m)\n",
    "        solution = np.linalg.lstsq(Xij, y, rcond=None)\n",
    "        error = solution[1][0] if solution[1] else 0\n",
    "\n",
    "        plot_ys.append(error)\n",
    "    plt.plot(plot_xs, plot_ys)\n",
    "    plt.show()\n",
    "task1()     "
   ]
  },
  {
   "cell_type": "code",
   "execution_count": 53,
   "id": "76f684f9-e0e8-4aea-8299-91da9d2e92c9",
   "metadata": {},
   "outputs": [
    {
     "name": "stdout",
     "output_type": "stream",
     "text": [
      "m=10\n",
      "0.0  ,4.75 ,0.0  ,3.11 ,5.61 ,3.83 ,0.0  ,1.47 ,4.29 ,1.56 ,0.9  ,0.0  ,3.55 ,2.07 ,1.84 ,\n",
      "5.0  ,4.0  ,4.0  ,4.0  ,3.0  ,2.0  ,4.0  ,4.0  ,3.0  ,4.0  ,2.0  ,4.0  ,2.0  ,3.0  ,5.0  ,\n",
      "error=10.631846644589864\n",
      "m=25\n",
      "1.68 ,5.22 ,0.0  ,4.86 ,7.64 ,4.93 ,0.0  ,4.14 ,2.72 ,1.24 ,1.86 ,1.06 ,5.03 ,1.76 ,1.1  ,\n",
      "5.0  ,4.0  ,4.0  ,4.0  ,3.0  ,2.0  ,4.0  ,4.0  ,3.0  ,4.0  ,2.0  ,4.0  ,2.0  ,3.0  ,5.0  ,\n",
      "error=10.849677980958678\n",
      "m=50\n",
      "3.76 ,5.06 ,3.95 ,5.94 ,2.02 ,6.43 ,2.56 ,2.19 ,4.14 ,-0.37,4.66 ,1.66 ,4.88 ,1.08 ,2.59 ,\n",
      "5.0  ,4.0  ,4.0  ,4.0  ,3.0  ,2.0  ,4.0  ,4.0  ,3.0  ,4.0  ,2.0  ,4.0  ,2.0  ,3.0  ,5.0  ,\n",
      "error=9.114167364162656\n",
      "m=100\n",
      "4.57 ,5.26 ,4.36 ,5.06 ,-3.88,2.85 ,3.26 ,-0.86,6.34 ,-0.35,7.59 ,2.32 ,4.2  ,0.92 ,3.19 ,\n",
      "5.0  ,4.0  ,4.0  ,4.0  ,3.0  ,2.0  ,4.0  ,4.0  ,3.0  ,4.0  ,2.0  ,4.0  ,2.0  ,3.0  ,5.0  ,\n",
      "error=12.325889167592614\n",
      "m=250\n",
      "18.71,14.66,5.22 ,21.75,-140.3,22.77,1.68 ,145.24,-65.04,11.63,-137.85,-11.38,-83.87,3.24 ,-39.49,\n",
      "5.0  ,4.0  ,4.0  ,4.0  ,3.0  ,2.0  ,4.0  ,4.0  ,3.0  ,4.0  ,2.0  ,4.0  ,2.0  ,3.0  ,5.0  ,\n",
      "error=274.54111885784647\n",
      "m=500\n",
      "16.22,12.81,-6.98,45.35,-29.88,1.64 ,5.96 ,9.68 ,-46.4,11.95,21.62,57.04,1.27 ,-14.95,-3.15,\n",
      "5.0  ,4.0  ,4.0  ,4.0  ,3.0  ,2.0  ,4.0  ,4.0  ,3.0  ,4.0  ,2.0  ,4.0  ,2.0  ,3.0  ,5.0  ,\n",
      "error=96.12707498946743\n",
      "m=1000\n",
      "7.77 ,15.23,10.72,1.07 ,-4.58,4.58 ,1.35 ,4.36 ,4.85 ,-0.16,-9.04,3.69 ,5.26 ,13.59,-2.83,\n",
      "5.0  ,4.0  ,4.0  ,4.0  ,3.0  ,2.0  ,4.0  ,4.0  ,3.0  ,4.0  ,2.0  ,4.0  ,2.0  ,3.0  ,5.0  ,\n",
      "error=24.196595469414167\n",
      "m=10000\n",
      "5.91 ,5.24 ,2.03 ,0.69 ,0.1  ,7.19 ,3.35 ,2.15 ,4.25 ,4.13 ,0.29 ,2.63 ,1.87 ,2.8  ,4.31 ,\n",
      "5.0  ,4.0  ,4.0  ,4.0  ,3.0  ,2.0  ,4.0  ,4.0  ,3.0  ,4.0  ,2.0  ,4.0  ,2.0  ,3.0  ,5.0  ,\n",
      "error=7.950787796458311\n"
     ]
    },
    {
     "data": {
      "image/png": "[encoded data removed]",
      "text/plain": [
       "<Figure size 640x480 with 1 Axes>"
      ]
     },
     "metadata": {},
     "output_type": "display_data"
    }
   ],
   "source": [
    "def task2():\n",
    "    possible_ms = [10,25,50,100,250,500,1000,10000]\n",
    "    errors = []\n",
    "    for m in possible_ms:\n",
    "        Xij, y = create_matrix_Xij_and_y(m=m)\n",
    "        training_Xij = Xij[:200]\n",
    "        training_y = y[:200]\n",
    "        solution = np.linalg.lstsq(training_Xij, training_y, rcond=None)\n",
    "\n",
    "        test_Xij = Xij[200:]\n",
    "        test_y = y[200:]\n",
    "\n",
    "        evaled = test_Xij.dot(solution[0])\n",
    "        print(f\"{m=}\")\n",
    "        for item in evaled:\n",
    "            print(str(round(item, 2)).ljust(5), end=\",\")\n",
    "        print()\n",
    "        for item in test_y:\n",
    "            print(str(round(item, 2)).ljust(5), end=\",\")\n",
    "        print()\n",
    "\n",
    "        error = (np.linalg.norm((test_y - evaled)))\n",
    "        errors.append(error)\n",
    "        print(f\"{error=}\")\n",
    "    plt.plot(possible_ms, errors)\n",
    "    plt.show()\n",
    "\n",
    "        \n",
    "        \n",
    "task2()"
   ]
  },
  {
   "cell_type": "markdown",
   "id": "fe57b10d-664a-4512-bb2b-c4d75f2d87eb",
   "metadata": {},
   "source": [
    "## Zadanie 2 (15pt)\n",
    "\n",
    "Napisz system rekomendacji filmów. Systemy takie są wykorzystywane przez różne firmy np.\n",
    "Netflix organizował konkurs na opracowanie algorytmu, który będzie przewidywał\n",
    "ocenę użytkownika [Netflix Prize](https://en.wikipedia.org/wiki/Netflix_Prize).\n",
    "W zadaniu tym zaimplementujemy podobny system, który jednak zamiast przewidywania będzie na\n",
    "podstawie preferencji użytkownika rekomendował filmy, które najprawdopodobniej mu się spodobają.\n",
    "Istnieje wiele sposobów, aby taki system napisać, dla zainteresowanych bardziej tematem proponuje\n",
    "zobaczyć np. [Recommendation Systems](http://infolab.stanford.edu/~ullman/mmds/ch9.pdf).\n",
    "W tym zadaniu wybierzemy w miarę prosty i łatwy do implementacji system rekomendacji.\n",
    "Sformalizujmy problem. Załóżmy, że mamy macierz oceny, gdzie wiersze będą reprezentować\n",
    "użytkowników a kolumny filmy np.\n",
    "$$ \\begin{array}{ccc}\n",
    "    & \\mbox{Matrix} & \\mbox{Star Wars IV} \\\\\n",
    "    \\mbox{Alice} & 5 & 4 \\\\\n",
    "    \\mbox{Bob} & 0 & 1 \\\\\n",
    "    \\mbox{John} & 2 & 2 \\\\\n",
    "    \\mbox{Ada} & 5 & 5\n",
    "   \\end{array}$$\n",
    "Patrząc na powyższą macierz widać, że kolumny pierwsza i druga mają podobne oceny stąd można wywnioskować, że\n",
    "filmy Matrix i Star Wars IV są (według użytkowników) podobne do siebie, czyli jeśli komuś podobał się Matrix\n",
    "to jest duża szansa, że będzie podobał mu się Star Wars i odwrotnie. Dlatego \"podobieństwo\" sformalizujemy przez wykorzystanie\n",
    "[podobieństwa cosinusowego](https://en.wikipedia.org/wiki/Cosine_similarity), czyli\n",
    "jeśli $x = (x_1, x_2, \\dots, x_n)$ i $y = (y_1, y_2, \\dots, y_n)$, wtedy:\n",
    "$$x_1 y_1 + x_2 y_2 + \\cdots + x_n y_n = x \\cdot y = \\lVert x \\rVert \\lVert y \\rVert \\cos(\\theta)$$\n",
    "Gdzie $\\theta$ jest kątem między wektorami. Wygodniej będzie nam normalizować wektory. Wtedy\n",
    "$$x_1 y_1 + x_2 y_2 + \\cdots + x_n y_n = \\cos(\\theta).$$ Wtedy $\\cos(\\theta)$ reprezentuje\n",
    "podobieństwo jednego wektora do drugiego, czyli jak bardzo jedne oceny są bliskie innym.\n",
    "\n",
    "Dla naszej macierzy otrzymujemy"
   ]
  },
  {
   "cell_type": "markdown",
   "id": "899ca7e8-88fd-4b1a-8020-ad64300d8d8f",
   "metadata": {},
   "source": [
    "\n",
    "### Zadanie do wykoniania\n",
    "\n",
    "Napisz system rekomendacji filmów który będzie wykorzystywał dane\n",
    "[MovieLens Latest Datasets](https://grouplens.org/datasets/movielens/latest/).\n",
    "Dokładnie mniejszy zbiór (który dodatkowo trochę jeszcze zmniejszymy). Pobierz plik\n",
    "[ml-latest-small.zip](http://files.grouplens.org/datasets/movielens/ml-latest-small.zip).\n",
    "Interesować, będą nas głównie dwa pliki movies.csv oraz ratings.csv. W pliku ratings.csv mamy\n",
    "właściwie wszystkie dane, które będą nam potrzebne aby stworzyć macierz oceny. Ponieważ\n",
    "nawet w tym przypadku otrzymana macierz będzie dość duża dlatego w trakcie wczytywania\n",
    "danych z pliku proszę wziąć pod uwagę tylko te wiersze (z pliku ratings.csv) w których <b>movie_id</b> (druga kolumna)\n",
    "jest mniejsze od 10000 (resztę ignorujemy). Dla aktualnych danych ze strony otrzymamy, wtedy macierz mniej więcej 611x9019.\n",
    "Przykładowy wynik dla wybranego profilu filmowego:\n",
    "\n",
    "```\n",
    "# wektor my_ratings odpowiada wektorowi y z przykładu wyżej\n",
    "my_ratings = np.zeros((9019,1))\n",
    "my_ratings[2571] = 5      # patrz movies.csv  2571 - Matrix\n",
    "my_ratings[32] = 4        # 32 - Twelve Monkeys\n",
    "my_ratings[260] = 5       # 260 - Star Wars IV\n",
    "my_ratings[1097] = 4\n",
    "my_ratings_norm = my_ratings/np.linalg.norm(my_ratings)\n",
    "\n",
    "...\n",
    "\n",
    "# otrzymujemy wynik rekomendacji po posortowaniu\n",
    "# (cos(θ), movies_id)\n",
    "(0.8675507828468105, 260)\n",
    "(0.8362098349303669, 2571)\n",
    "(0.8227451213877744, 1196)\n",
    "(0.8002349214247857, 1210)\n",
    "(0.7458504689612442, 1097)\n",
    "(0.7286029159733108, 32)\n",
    "(0.7265369898748615, 1198)\n",
    "(0.7095672455110477, 1240)\n",
    "(0.7029872178855614, 1270)\n",
    "```\n",
    "\n",
    "Otrzymane reprezentacje wyświetl w postaci nazw filmów, korzystając z movies.csv. Uwaga: w rzeczywistych\n",
    "danych otrzymamy dużą liczbę zer, nawet całe kolumny, wtedy dostaniemy wartości NaN przy dzieleniu!\n",
    "Rozwiąż ten problem wykorzystując np.nan_to_num(...).\n",
    "\n"
   ]
  },
  {
   "cell_type": "code",
   "execution_count": null,
   "id": "2679266e-bd9e-4c3a-801f-78afd8d57316",
   "metadata": {},
   "outputs": [],
   "source": [
    "def normalize(data, axis=-1):\n",
    "    normalized = np.linalg.norm(data, axis=axis)\n",
    "    for i in range(len(normalized)):\n",
    "        if normalized[i] == 0:\n",
    "            normalized[i] = np.inf\n",
    "    return data / normalized"
   ]
  },
  {
   "cell_type": "code",
   "execution_count": null,
   "id": "2f821c5e-6d73-491d-ab0a-8c6d55bc57d7",
   "metadata": {},
   "outputs": [],
   "source": [
    "maxUserId = max(data.get('userId'))\n",
    "maxMovieId = max((movieId for movieId in data.get('movieId') if movieId < 10000))"
   ]
  },
  {
   "cell_type": "code",
   "execution_count": null,
   "id": "865b673e-2479-4555-92cc-c8bc85521dbc",
   "metadata": {},
   "outputs": [],
   "source": [
    "x = np.zeros((maxUserId+1, maxMovieId+1))\n",
    "for row in data.iterrows():\n",
    "    model = RatingsModel(row)\n",
    "    if model.movieId >= 10000: \n",
    "        continue\n",
    "    #print(f\"{userId=}, {movieId=}, {rating=}\")\n",
    "    x[model.userId][model.movieId] = model.rating\n",
    "    #print(f\"{userId=}, {movieId=}, {y[userId][movieId]=}\")"
   ]
  },
  {
   "cell_type": "code",
   "execution_count": null,
   "id": "f1f117af-8d20-4ae5-8d29-940295eb452d",
   "metadata": {},
   "outputs": [],
   "source": [
    "normalized_x = normalize(x, axis=0)\n",
    "print(normalized_x)\n"
   ]
  },
  {
   "cell_type": "code",
   "execution_count": null,
   "id": "9645c461",
   "metadata": {},
   "outputs": [],
   "source": [
    "my_ratings = np.zeros((9019,1))\n",
    "my_ratings[2571] = 5      # patrz movies.csv  2571 - Matrix\n",
    "my_ratings[32] = 4        # 32 - Twelve Monkeys\n",
    "my_ratings[260] = 5       # 260 - Star Wars IV\n",
    "my_ratings[1097] = 4\n",
    "my_ratings_norm = my_ratings/np.linalg.norm(my_ratings)"
   ]
  },
  {
   "cell_type": "code",
   "execution_count": null,
   "id": "8caf9501",
   "metadata": {},
   "outputs": [],
   "source": [
    "z = np.dot(normalized_x, my_ratings_norm)\n",
    "X = normalize(x, axis=0)\n",
    "Z = normalize(z, axis=0)\n"
   ]
  },
  {
   "cell_type": "code",
   "execution_count": null,
   "id": "5d121aef-5fc5-4add-bd00-373920c96dfa",
   "metadata": {},
   "outputs": [],
   "source": [
    "recomendations = np.dot(X.T, Z)\n",
    "print(\"cos     , movieId\")\n",
    "for recomendation in sorted(\n",
    "    list(enumerate([x[0] for x in recomendations.tolist()])), \n",
    "    key=lambda x: x[1], \n",
    "    reverse=True\n",
    ")[:10]:\n",
    "    print(f\"{round(recomendation[1],6)}, {recomendation[0]}\")"
   ]
  },
  {
   "cell_type": "code",
   "execution_count": null,
   "id": "eec02cd6-4ff1-4f1d-bbd2-3ec08c466154",
   "metadata": {},
   "outputs": [],
   "source": []
  }
 ],
 "metadata": {
  "kernelspec": {
   "display_name": "Python 3 (ipykernel)",
   "language": "python",
   "name": "python3"
  },
  "language_info": {
   "codemirror_mode": {
    "name": "ipython",
    "version": 3
   },
   "file_extension": ".py",
   "mimetype": "text/x-python",
   "name": "python",
   "nbconvert_exporter": "python",
   "pygments_lexer": "ipython3",
   "version": "3.10.12"
  }
 },
 "nbformat": 4,
 "nbformat_minor": 5
}
